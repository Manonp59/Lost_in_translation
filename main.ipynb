{
 "cells": [
  {
   "cell_type": "code",
   "execution_count": 49,
   "metadata": {},
   "outputs": [],
   "source": [
    "import requests\n",
    "\n",
    "url_gares = \"https://ressources.data.sncf.com/api/records/1.0/search/?dataset=referentiel-gares-voyageurs&q=&sort=gare_alias_libelle_noncontraint&rows=-1\"\n",
    "\n",
    "\n",
    "response = requests.get(url_gares)\n",
    "\n",
    "data_list = []\n",
    "\n",
    "if response.status_code == 200:\n",
    "    data = response.json()\n",
    "    for record in data['records']:\n",
    "        gare_alias_libelle_noncontraint = record['fields']['gare_alias_libelle_noncontraint']\n",
    "        if 'wgs_84' in record['fields']:\n",
    "            latitude = record['fields']['wgs_84'][0]\n",
    "            longitude = record['fields']['wgs_84'][1]\n",
    "            data_list.append([gare_alias_libelle_noncontraint, latitude, longitude])\n",
    "\n",
    "            \n",
    "else:\n",
    "    print(\"Une erreur s'est produite lors de la requête à l'API.\")\n",
    "    \n",
    "df_data = pd.DataFrame(data_list, columns=[\n",
    "    \"Gare\",\n",
    "    \"Latitude\",\n",
    "    \"Longitude\"\n",
    "])\n",
    "\n",
    "df_data.to_csv('df_data.csv')\n",
    "\n",
    "import sqlite3\n",
    "import pandas as pd \n",
    "\n",
    "connexion = sqlite3.connect('bdd.db')\n",
    "\n",
    "df_data.to_sql('coordonnees_gares', connexion,if_exists='replace', index=False)\n",
    "\n",
    "connexion.close()\n"
   ]
  }
 ],
 "metadata": {
  "kernelspec": {
   "display_name": "machine-learning",
   "language": "python",
   "name": "python3"
  },
  "language_info": {
   "codemirror_mode": {
    "name": "ipython",
    "version": 3
   },
   "file_extension": ".py",
   "mimetype": "text/x-python",
   "name": "python",
   "nbconvert_exporter": "python",
   "pygments_lexer": "ipython3",
   "version": "3.10.9"
  },
  "orig_nbformat": 4,
  "vscode": {
   "interpreter": {
    "hash": "ce8263f54646eff212f75d029976341b1907292128b7f9fc9935844628a6029c"
   }
  }
 },
 "nbformat": 4,
 "nbformat_minor": 2
}
