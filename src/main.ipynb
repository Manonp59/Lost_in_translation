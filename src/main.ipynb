{
 "cells": [
  {
   "attachments": {},
   "cell_type": "markdown",
   "metadata": {},
   "source": [
    "# I - Importation des données"
   ]
  },
  {
   "attachments": {},
   "cell_type": "markdown",
   "metadata": {},
   "source": [
    "### Création de la base de données base.db"
   ]
  },
  {
   "cell_type": "code",
   "execution_count": 82,
   "metadata": {},
   "outputs": [],
   "source": [
    "import sqlite3\n",
    "\n",
    "connexion = sqlite3.connect('base.db')\n",
    "curseur = connexion.cursor()\n",
    "\n",
    "# Création de la table Températures\n",
    "curseur.execute(\"\"\" CREATE TABLE IF NOT EXISTS Temperatures (\n",
    "                    date TEXT PRIMARY KEY UNIQUE, \n",
    "                    temperature_moyenne INTEGER\n",
    "                )\n",
    "                \"\"\")\n",
    "\n",
    "# Création de la table Gares\n",
    "curseur.execute(\"\"\" CREATE TABLE IF NOT EXISTS Gares (\n",
    "                    nom_gare TEXT PRIMARY KEY,\n",
    "                    latitude REAL,\n",
    "                    longitude REAL,\n",
    "                    frequentation_2019 INTEGER,\n",
    "                    frequentation_2020 INTEGER,\n",
    "                    frequentation_2021 INTEGER\n",
    "                )\n",
    "                \"\"\")\n",
    "\n",
    "# Création de la table objets trouvés\n",
    "curseur.execute(\"\"\" CREATE TABLE IF NOT EXISTS Objets_trouves (\n",
    "                    id INTEGER PRIMARY KEY AUTOINCREMENT UNIQUE,\n",
    "                    date TEXT,\n",
    "                    type TEXT,\n",
    "                    nom_gare TEXT,\n",
    "                    code_uic INTEGER,\n",
    "                    FOREIGN KEY (nom_gare) REFERENCES Gares(nom_gare),\n",
    "                    FOREIGN KEY (date) REFERENCES Temperatures(date)\n",
    "                    )\"\"\")\n",
    "\n",
    "\n",
    "connexion.commit()\n",
    "connexion.close()"
   ]
  },
  {
   "cell_type": "markdown",
   "metadata": {},
   "source": []
  },
  {
   "attachments": {},
   "cell_type": "markdown",
   "metadata": {},
   "source": [
    "#### Objets trouvés"
   ]
  },
  {
   "cell_type": "code",
   "execution_count": 83,
   "metadata": {},
   "outputs": [],
   "source": [
    "import requests\n",
    "import pandas as pd\n",
    "import sqlite3\n",
    "import urllib.parse\n",
    "\n",
    "\n",
    "url1 = \"https://ressources.data.sncf.com/api/records/1.0/search/?dataset=objets-trouves-restitution&q=gc_obo_gare_origine_r_name+%3D+%22\"\n",
    "url2 = \"&sort=date&facet=date&facet=gc_obo_date_heure_restitution_c&facet=gc_obo_gare_origine_r_name&facet=gc_obo_nature_c&facet=gc_obo_type_c&facet=gc_obo_nom_recordtype_sc_c&timezone=Europe%2FParis&rows=-1\"\n",
    "\n",
    "\n",
    "gares = ['Paris Gare de Lyon', 'Paris Montparnasse', 'Paris Gare du Nord', 'Paris Saint-Lazare', 'Paris Est', 'Paris Bercy', 'Paris Austerlitz']\n",
    "date =[2019, 2020,2021,2022]\n",
    "\n",
    "data_frames = []\n",
    "for g in gares:\n",
    "    for d in date:\n",
    "        api_url = f\"{url1}{urllib.parse.quote(g)}%22+AND+date%3D{str(d)}{url2}\"\n",
    "        response = requests.get(api_url)\n",
    "        data = response.json()\n",
    "        records = data[\"records\"]\n",
    "        record_fields = [record[\"fields\"] for record in records]\n",
    "        data_frames.append(record_fields)\n",
    "\n"
   ]
  },
  {
   "attachments": {},
   "cell_type": "markdown",
   "metadata": {},
   "source": [
    "### Import des données sur les objets trouvés"
   ]
  },
  {
   "cell_type": "code",
   "execution_count": 84,
   "metadata": {},
   "outputs": [],
   "source": [
    "connexion = sqlite3.connect(\"base.db\")\n",
    "curseur = connexion.cursor()\n",
    "for n in range(len(data_frames)):\n",
    "    for item in data_frames[n]:\n",
    "    # Extract the variables and values\n",
    "       date = item['date']\n",
    "       type = item['gc_obo_type_c']\n",
    "       gare = item['gc_obo_gare_origine_r_name']\n",
    "       code_uic = item['gc_obo_gare_origine_r_code_uic_c']\n",
    "       curseur.execute(\"INSERT INTO Objets_trouves (date,type,nom_gare,code_uic) VALUES (?,?, ?, ?)\", (date, type,gare, code_uic))\n",
    "connexion.commit()\n",
    "connexion.close()\n"
   ]
  },
  {
   "cell_type": "code",
   "execution_count": 85,
   "metadata": {},
   "outputs": [],
   "source": [
    "connexion = sqlite3.connect(\"base.db\")\n",
    "curseur = connexion.cursor()\n",
    "curseur.execute(\"\"\"UPDATE Objets_trouves\n",
    "SET date = DATE(SUBSTR(date, 1, 10))\"\"\")\n",
    "connexion.commit()\n",
    "connexion.close()\n",
    "\n"
   ]
  },
  {
   "attachments": {},
   "cell_type": "markdown",
   "metadata": {},
   "source": [
    "### Import des données sur la fréquentation"
   ]
  },
  {
   "cell_type": "code",
   "execution_count": 86,
   "metadata": {},
   "outputs": [],
   "source": [
    "import requests\n",
    "import sqlite3\n",
    "import pandas as pd \n",
    "\n",
    "url_frequentation_gares = \"https://ressources.data.sncf.com/api/records/1.0/search/?dataset=frequentation-gares&q=nom_gare%3D%27Paris%27&sort=nom_gare&rows=-1\"\n",
    "\n",
    "\n",
    "response = requests.get(url_frequentation_gares)\n",
    "\n",
    "gare_frequentation_list = []\n",
    "\n",
    "if response.status_code == 200:\n",
    "    data = response.json()\n",
    "    for record in data['records']:\n",
    "        gare = record['fields']['nom_gare']\n",
    "        frequentation_2019 = record['fields']['total_voyageurs_non_voyageurs_2019']\n",
    "        frequentation_2020 = record['fields']['total_voyageurs_non_voyageurs_2020']\n",
    "        frequentation_2021 = record['fields']['total_voyageurs_non_voyageurs_2021']\n",
    "        gare_frequentation_list.append([gare,frequentation_2019,frequentation_2020,frequentation_2021])\n",
    "        \n",
    "\n",
    "            \n",
    "else:\n",
    "    print(\"Une erreur s'est produite lors de la requête à l'API.\")\n",
    "    \n",
    "connexion = sqlite3.connect(\"base.db\")\n",
    "curseur = connexion.cursor()\n",
    "for gare in gare_frequentation_list:\n",
    "    nom_gare = gare[0]\n",
    "    frequentation_2019 = gare[1]\n",
    "    frequentation_2020 = gare[2]\n",
    "    frequentation_2021 = gare[3]\n",
    "    \n",
    "    curseur.execute(\"INSERT INTO Gares (nom_gare, frequentation_2019, frequentation_2020,frequentation_2021) VALUES (?,?, ?, ?)\",(nom_gare,frequentation_2019,frequentation_2020,frequentation_2021))\n",
    "connexion.commit()\n",
    "connexion.close()\n",
    "\n",
    "connexion.close()"
   ]
  },
  {
   "cell_type": "markdown",
   "metadata": {},
   "source": [
    "### Import des données sur la localisation"
   ]
  },
  {
   "cell_type": "code",
   "execution_count": 87,
   "metadata": {},
   "outputs": [],
   "source": [
    "import requests\n",
    "import sqlite3\n",
    "\n",
    "url_gares = \"https://ressources.data.sncf.com/api/records/1.0/search/?dataset=referentiel-gares-voyageurs&q=gare_alias_libelle_noncontraint='Paris'&sort=gare_alias_libelle_noncontraint&rows=-1\"\n",
    "\n",
    "\n",
    "response = requests.get(url_gares)\n",
    "\n",
    "gares_coord_list = []\n",
    "\n",
    "if response.status_code == 200:\n",
    "    data = response.json()\n",
    "    for record in data['records']:\n",
    "        gare_alias_libelle_noncontraint = record['fields']['gare_alias_libelle_noncontraint']\n",
    "        if 'wgs_84' in record['fields']:\n",
    "            latitude = record['fields']['wgs_84'][0]\n",
    "            longitude = record['fields']['wgs_84'][1]\n",
    "            gares_coord_list.append([code_uic,gare_alias_libelle_noncontraint, latitude, longitude])\n",
    "\n",
    "            \n",
    "else:\n",
    "    print(\"Une erreur s'est produite lors de la requête à l'API.\")\n",
    "    \n",
    "\n",
    "connexion = sqlite3.connect(\"base.db\")\n",
    "curseur = connexion.cursor()\n",
    "for gare in gares_coord_list:\n",
    "    nom_gare = gare[1]\n",
    "    latitude = gare[2]\n",
    "    longitude = gare[3]\n",
    "    curseur.execute(\"UPDATE Gares SET latitude = ?, longitude= ? WHERE nom_gare = ?\", (latitude, longitude, nom_gare))\n",
    "connexion.commit()\n",
    "connexion.close()"
   ]
  },
  {
   "cell_type": "code",
   "execution_count": 88,
   "metadata": {},
   "outputs": [],
   "source": [
    "connexion = sqlite3.connect(\"base.db\")\n",
    "curseur = connexion.cursor()\n",
    "\n",
    "curseur.execute(\"UPDATE Objets_trouves SET nom_gare = 'Paris Bercy' WHERE nom_gare LIKE 'Paris Bercy%'\")\n",
    "\n",
    "connexion.commit()\n",
    "connexion.close()"
   ]
  },
  {
   "cell_type": "code",
   "execution_count": null,
   "metadata": {},
   "outputs": [],
   "source": [
    "connexion = sqlite3.connect(\"base.db\")\n",
    "curseur = connexion.cursor()\n",
    "\n",
    "curseur.execute(\"UPDATE Gares SET nom_gare = 'Paris Bercy' WHERE nom_gare LIKE 'Paris Bercy%'\")\n",
    "\n",
    "connexion.commit()\n",
    "connexion.close()\n",
    "\n"
   ]
  },
  {
   "attachments": {},
   "cell_type": "markdown",
   "metadata": {},
   "source": [
    "### Import des données sur la température"
   ]
  },
  {
   "cell_type": "code",
   "execution_count": 68,
   "metadata": {},
   "outputs": [],
   "source": [
    "import requests\n",
    "import pandas as pd\n",
    "import sqlite3\n",
    "import datetime\n",
    "\n",
    "# Clé d'API de worldweatheronline\n",
    "from dotenv import load_dotenv\n",
    "import os\n",
    "\n",
    "load_dotenv()\n",
    "API_KEY_TEMP = os.getenv(\"API_KEY_TEMP\")\n",
    "\n",
    "\n",
    "# Coordonnées de Paris\n",
    "COORDS = \"48.8566,2.3522\"\n",
    "\n",
    "# Définition de la période de temps\n",
    "start_date = datetime.date(2019, 1, 1)\n",
    "end_date = datetime.date(2022, 12, 31)\n",
    "delta = datetime.timedelta(days=35)\n",
    "\n",
    "# Liste pour stocker les données de température\n",
    "temperature_dates_list = []\n",
    "\n",
    "# Boucle pour récupérer les données de température par période de 35 jours\n",
    "while start_date <= end_date:\n",
    "    end_period = start_date + delta\n",
    "    if end_period > end_date:\n",
    "        end_period = end_date\n",
    "    url = f\"https://api.worldweatheronline.com/premium/v1/past-weather.ashx?q={COORDS}&date={start_date}&enddate={end_period}&tp=24&format=json&key={API_KEY_TEMP}\"\n",
    "    response = requests.get(url)\n",
    "    if response.status_code == 200:\n",
    "        data = response.json()\n",
    "        for weather in data['data']['weather']:\n",
    "            date = weather['date']\n",
    "            temperature_moyenne = weather['avgtempC']\n",
    "            temperature_dates_list.append([date,temperature_moyenne])\n",
    "    else:\n",
    "        print(\"Une erreur s'est produite lors de la requête à l'API.\")\n",
    "    start_date += delta\n",
    "\n",
    "connexion = sqlite3.connect(\"base.db\")\n",
    "curseur = connexion.cursor()\n",
    "for entree in temperature_dates_list:\n",
    "    date = entree[0]\n",
    "    temperature = entree[1]\n",
    "\n",
    "    curseur.execute(\"INSERT INTO Temperatures (date,temperature_moyenne) VALUES (?,?)\", (date, temperature))\n",
    "\n",
    "# Fermeture de la connexion à la base de données\n",
    "connexion.commit()\n",
    "connexion.close()\n"
   ]
  },
  {
   "cell_type": "code",
   "execution_count": 80,
   "metadata": {},
   "outputs": [
    {
     "data": {
      "text/html": [
       "<div>\n",
       "<style scoped>\n",
       "    .dataframe tbody tr th:only-of-type {\n",
       "        vertical-align: middle;\n",
       "    }\n",
       "\n",
       "    .dataframe tbody tr th {\n",
       "        vertical-align: top;\n",
       "    }\n",
       "\n",
       "    .dataframe thead th {\n",
       "        text-align: right;\n",
       "    }\n",
       "</style>\n",
       "<table border=\"1\" class=\"dataframe\">\n",
       "  <thead>\n",
       "    <tr style=\"text-align: right;\">\n",
       "      <th></th>\n",
       "      <th>0</th>\n",
       "      <th>1</th>\n",
       "      <th>2</th>\n",
       "    </tr>\n",
       "  </thead>\n",
       "  <tbody>\n",
       "    <tr>\n",
       "      <th>0</th>\n",
       "      <td>2019-01-01</td>\n",
       "      <td>8</td>\n",
       "      <td>5</td>\n",
       "    </tr>\n",
       "    <tr>\n",
       "      <th>1</th>\n",
       "      <td>2019-01-02</td>\n",
       "      <td>5</td>\n",
       "      <td>90</td>\n",
       "    </tr>\n",
       "    <tr>\n",
       "      <th>2</th>\n",
       "      <td>2019-01-03</td>\n",
       "      <td>4</td>\n",
       "      <td>107</td>\n",
       "    </tr>\n",
       "    <tr>\n",
       "      <th>3</th>\n",
       "      <td>2019-01-04</td>\n",
       "      <td>3</td>\n",
       "      <td>84</td>\n",
       "    </tr>\n",
       "    <tr>\n",
       "      <th>4</th>\n",
       "      <td>2019-01-05</td>\n",
       "      <td>4</td>\n",
       "      <td>78</td>\n",
       "    </tr>\n",
       "    <tr>\n",
       "      <th>...</th>\n",
       "      <td>...</td>\n",
       "      <td>...</td>\n",
       "      <td>...</td>\n",
       "    </tr>\n",
       "    <tr>\n",
       "      <th>1456</th>\n",
       "      <td>2022-12-27</td>\n",
       "      <td>5</td>\n",
       "      <td>84</td>\n",
       "    </tr>\n",
       "    <tr>\n",
       "      <th>1457</th>\n",
       "      <td>2022-12-28</td>\n",
       "      <td>9</td>\n",
       "      <td>67</td>\n",
       "    </tr>\n",
       "    <tr>\n",
       "      <th>1458</th>\n",
       "      <td>2022-12-29</td>\n",
       "      <td>10</td>\n",
       "      <td>65</td>\n",
       "    </tr>\n",
       "    <tr>\n",
       "      <th>1459</th>\n",
       "      <td>2022-12-30</td>\n",
       "      <td>10</td>\n",
       "      <td>61</td>\n",
       "    </tr>\n",
       "    <tr>\n",
       "      <th>1460</th>\n",
       "      <td>2022-12-31</td>\n",
       "      <td>15</td>\n",
       "      <td>73</td>\n",
       "    </tr>\n",
       "  </tbody>\n",
       "</table>\n",
       "<p>1461 rows × 3 columns</p>\n",
       "</div>"
      ],
      "text/plain": [
       "               0   1    2\n",
       "0     2019-01-01   8    5\n",
       "1     2019-01-02   5   90\n",
       "2     2019-01-03   4  107\n",
       "3     2019-01-04   3   84\n",
       "4     2019-01-05   4   78\n",
       "...          ...  ..  ...\n",
       "1456  2022-12-27   5   84\n",
       "1457  2022-12-28   9   67\n",
       "1458  2022-12-29  10   65\n",
       "1459  2022-12-30  10   61\n",
       "1460  2022-12-31  15   73\n",
       "\n",
       "[1461 rows x 3 columns]"
      ]
     },
     "execution_count": 80,
     "metadata": {},
     "output_type": "execute_result"
    }
   ],
   "source": [
    "connexion = sqlite3.connect(\"base.db\")\n",
    "curseur = connexion.cursor()\n",
    "df = pd.DataFrame(curseur.execute(\"\"\"SELECT Temperatures.date AS date , Temperatures.temperature_moyenne AS temperature, COUNT(Objets_trouves.id) AS nb_objets\n",
    "FROM Temperatures\n",
    "LEFT JOIN Objets_trouves ON Temperatures.date = Objets_trouves.date\n",
    "GROUP BY Temperatures.date;\n",
    "\n",
    "                                  \"\"\"))\n",
    "connexion.commit()\n",
    "connexion.close()\n",
    "df"
   ]
  },
  {
   "cell_type": "code",
   "execution_count": 81,
   "metadata": {},
   "outputs": [
    {
     "data": {
      "text/plain": [
       "Text(0, 0.5, \"Nombre d'objets trouvés\")"
      ]
     },
     "execution_count": 81,
     "metadata": {},
     "output_type": "execute_result"
    },
    {
     "data": {
      "image/png": "[encoded data removed]",
      "text/plain": [
       "<Figure size 640x480 with 1 Axes>"
      ]
     },
     "metadata": {},
     "output_type": "display_data"
    }
   ],
   "source": [
    "import seaborn as sns\n",
    "import matplotlib.pyplot as plt\n",
    "\n",
    "sns.scatterplot(data=df,x=1,y=2)\n",
    "plt.gca().set_title(\"Relation entre la température et le nombre d'objets trouvés\")\n",
    "plt.xlabel(\"Température\")\n",
    "plt.ylabel(\"Nombre d'objets trouvés\")"
   ]
  },
  {
   "cell_type": "code",
   "execution_count": 78,
   "metadata": {},
   "outputs": [
    {
     "data": {
      "text/plain": [
       "0.09499339986109094"
      ]
     },
     "execution_count": 78,
     "metadata": {},
     "output_type": "execute_result"
    }
   ],
   "source": [
    "correlation = df[1].corr(df[2])\n",
    "\n",
    "correlation"
   ]
  }
 ],
 "metadata": {
  "kernelspec": {
   "display_name": "machine-learning",
   "language": "python",
   "name": "python3"
  },
  "language_info": {
   "codemirror_mode": {
    "name": "ipython",
    "version": 3
   },
   "file_extension": ".py",
   "mimetype": "text/x-python",
   "name": "python",
   "nbconvert_exporter": "python",
   "pygments_lexer": "ipython3",
   "version": "3.10.9"
  },
  "orig_nbformat": 4,
  "vscode": {
   "interpreter": {
    "hash": "ce8263f54646eff212f75d029976341b1907292128b7f9fc9935844628a6029c"
   }
  }
 },
 "nbformat": 4,
 "nbformat_minor": 2
}
