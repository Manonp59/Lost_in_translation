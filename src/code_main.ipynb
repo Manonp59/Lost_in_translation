{
 "cells": [
  {
   "attachments": {},
   "cell_type": "markdown",
   "metadata": {},
   "source": [
    "#### Requeter pour avoir une base de données complète"
   ]
  },
  {
   "cell_type": "code",
   "execution_count": 6,
   "metadata": {},
   "outputs": [
    {
     "data": {
      "application/vnd.plotly.v1+json": {
       "config": {
        "plotlyServerURL": "https://plot.ly"
       },
       "data": [
        {
         "alignmentgroup": "True",
         "bingroup": "x",
         "histfunc": "sum",
         "hovertemplate": "type=Appareils électroniques, informatiques, appareils photo<br>semaine=%{x}<br>sum of nb_objets=%{y}<extra></extra>",
         "legendgroup": "Appareils électroniques, informatiques, appareils photo",
         "marker": {
          "color": "#000001",
          "pattern": {
           "shape": ""
          }
         },
         "name": "Appareils électroniques, informatiques, appareils photo",
         "nbinsx": 200,
         "offsetgroup": "Appareils électroniques, informatiques, appareils photo",
         "orientation": "v",
         "showlegend": true,
         "type": "histogram",
         "x": [
          "2019-00",
          "2019-02",
          "2019-05",
          "2019-08",
          "2019-11",
          "2019-14",
          "2019-15",
          "2019-16",
          "2019-21",
          "2019-22",
          "2019-24",
          "2019-25",
          "2019-28",
          "2019-29",
          "2019-31",
          "2019-32",
          "2019-33",
          "2019-34",
          "2019-37",
          "2019-38",
          "2019-40",
          "2019-41",
          "2019-43",
          "2019-45",
          "2019-47",
          "2019-48",
          "2019-51",
          "2020-01",
          "2020-03",
          "2020-05",
          "2020-06",
          "2020-07",
          "2020-09",
          "2020-18",
          "2020-25",
          "2020-27",
          "2020-28",
          "2020-29",
          "2020-30",
          "2020-33",
          "2020-34",
          "2020-39",
          "2020-41",
          "2020-47",
          "2020-50",
          "2020-51",
          "2021-01",
          "2021-02",
          "2021-03",
          "2021-05",
          "2021-06",
          "2021-07",
          "2021-10",
          "2021-12",
          "2021-14",
          "2021-15",
          "2021-16",
          "2021-17",
          "2021-18",
          "2021-19",
          "2021-20",
          "2021-21",
          "2021-22",
          "2021-23",
          "2021-24",
          "2021-26",
          "2021-28",
          "2021-30",
          "2021-31",
          "2021-33",
          "2021-34",
          "2021-35",
          "2021-37",
          "2021-38",
          "2021-42",
          "2021-45",
          "2021-46",
          "2021-48",
          "2021-49",
          "2021-50",
          "2021-51",
          "2021-52",
          "2022-00",
          "2022-01",
          "2022-03",
          "2022-04",
          "2022-05",
          "2022-07",
          "2022-08",
          "2022-09",
          "2022-10",
          "2022-11",
          "2022-14",
          "2022-15",
          "2022-16",
          "2022-19",
          "2022-20",
          "2022-21",
          "2022-23",
          "2022-26",
          "2022-29",
          "2022-30",
          "2022-31",
          "2022-36",
          "2022-37",
          "2022-38",
          "2022-39",
          "2022-40",
          "2022-45",
          "2022-49",
          "2022-50",
          "2022-51"
         ],
         "xaxis": "x",
         "y": [
          238,
          254,
          312,
          316,
          286,
          296,
          322,
          300,
          302,
          372,
          324,
          404,
          356,
          306,
          322,
          286,
          338,
          320,
          398,
          262,
          366,
          278,
          326,
          310,
          298,
          208,
          134,
          208,
          280,
          264,
          366,
          360,
          244,
          2,
          208,
          248,
          208,
          178,
          260,
          224,
          242,
          200,
          228,
          88,
          166,
          142,
          152,
          162,
          152,
          156,
          164,
          146,
          228,
          148,
          168,
          120,
          136,
          106,
          156,
          150,
          228,
          160,
          234,
          250,
          242,
          240,
          222,
          216,
          256,
          218,
          242,
          244,
          264,
          224,
          256,
          264,
          268,
          282,
          286,
          302,
          200,
          212,
          26,
          192,
          238,
          228,
          276,
          302,
          304,
          330,
          232,
          294,
          322,
          316,
          272,
          294,
          298,
          272,
          356,
          354,
          332,
          316,
          326,
          268,
          294,
          354,
          358,
          330,
          296,
          272,
          294,
          286
         ],
         "yaxis": "y"
        },
        {
         "alignmentgroup": "True",
         "bingroup": "x",
         "histfunc": "sum",
         "hovertemplate": "type=Porte-monnaie / portefeuille, argent, titres<br>semaine=%{x}<br>sum of nb_objets=%{y}<extra></extra>",
         "legendgroup": "Porte-monnaie / portefeuille, argent, titres",
         "marker": {
          "color": "#000002",
          "pattern": {
           "shape": ""
          }
         },
         "name": "Porte-monnaie / portefeuille, argent, titres",
         "nbinsx": 200,
         "offsetgroup": "Porte-monnaie / portefeuille, argent, titres",
         "orientation": "v",
         "showlegend": true,
         "type": "histogram",
         "x": [
          "2019-01",
          "2019-03",
          "2019-04",
          "2019-06",
          "2019-07",
          "2019-09",
          "2019-10",
          "2019-12",
          "2019-13",
          "2019-17",
          "2019-18",
          "2019-19",
          "2019-20",
          "2019-23",
          "2019-26",
          "2019-27",
          "2019-30",
          "2019-35",
          "2019-36",
          "2019-39",
          "2019-42",
          "2019-44",
          "2019-49",
          "2019-50",
          "2019-52",
          "2020-00",
          "2020-04",
          "2020-08",
          "2020-10",
          "2020-11",
          "2020-12",
          "2020-13",
          "2020-14",
          "2020-16",
          "2020-17",
          "2020-19",
          "2020-20",
          "2020-21",
          "2020-22",
          "2020-23",
          "2020-26",
          "2020-31",
          "2020-32",
          "2020-35",
          "2020-36",
          "2020-37",
          "2020-38",
          "2020-40",
          "2020-42",
          "2020-43",
          "2020-44",
          "2020-45",
          "2020-46",
          "2020-48",
          "2020-49",
          "2020-52",
          "2021-04",
          "2021-08",
          "2021-09",
          "2021-13",
          "2021-25",
          "2021-27",
          "2021-29",
          "2021-32",
          "2021-36",
          "2021-39",
          "2021-41",
          "2021-43",
          "2021-44",
          "2021-47",
          "2022-02",
          "2022-06",
          "2022-12",
          "2022-17",
          "2022-18",
          "2022-22",
          "2022-24",
          "2022-25",
          "2022-27",
          "2022-32",
          "2022-33",
          "2022-34",
          "2022-35",
          "2022-41",
          "2022-42",
          "2022-43",
          "2022-44",
          "2022-47",
          "2022-48",
          "2022-52"
         ],
         "xaxis": "x",
         "y": [
          252,
          286,
          250,
          326,
          302,
          352,
          294,
          326,
          308,
          324,
          316,
          294,
          316,
          296,
          428,
          320,
          250,
          314,
          312,
          276,
          290,
          324,
          152,
          220,
          122,
          156,
          264,
          390,
          294,
          28,
          4,
          4,
          4,
          2,
          2,
          42,
          62,
          146,
          130,
          120,
          198,
          220,
          190,
          198,
          208,
          250,
          212,
          170,
          234,
          186,
          156,
          64,
          90,
          98,
          140,
          104,
          194,
          242,
          172,
          178,
          262,
          218,
          234,
          218,
          218,
          324,
          314,
          190,
          300,
          206,
          242,
          246,
          298,
          342,
          266,
          388,
          392,
          316,
          310,
          382,
          290,
          330,
          336,
          296,
          392,
          344,
          238,
          278,
          322,
          174
         ],
         "yaxis": "y"
        },
        {
         "alignmentgroup": "True",
         "bingroup": "x",
         "histfunc": "sum",
         "hovertemplate": "type=Articles médicaux<br>semaine=%{x}<br>sum of nb_objets=%{y}<extra></extra>",
         "legendgroup": "Articles médicaux",
         "marker": {
          "color": "#000003",
          "pattern": {
           "shape": ""
          }
         },
         "name": "Articles médicaux",
         "nbinsx": 200,
         "offsetgroup": "Articles médicaux",
         "orientation": "v",
         "showlegend": true,
         "type": "histogram",
         "x": [
          "2019-46",
          "2020-02",
          "2020-24",
          "2021-00",
          "2021-11",
          "2021-40",
          "2022-13",
          "2022-28",
          "2022-46"
         ],
         "xaxis": "x",
         "y": [
          368,
          216,
          146,
          22,
          178,
          248,
          296,
          264,
          338
         ],
         "yaxis": "y"
        }
       ],
       "layout": {
        "barmode": "stack",
        "legend": {
         "title": {
          "text": "type"
         },
         "tracegroupgap": 0
        },
        "template": {
         "data": {
          "candlestick": [
           {
            "decreasing": {
             "line": {
              "color": "#000033"
             }
            },
            "increasing": {
             "line": {
              "color": "#000032"
             }
            },
            "type": "candlestick"
           }
          ],
          "contour": [
           {
            "colorscale": [
             [
              0,
              "#000011"
             ],
             [
              0.1111111111111111,
              "#000012"
             ],
             [
              0.2222222222222222,
              "#000013"
             ],
             [
              0.3333333333333333,
              "#000014"
             ],
             [
              0.4444444444444444,
              "#000015"
             ],
             [
              0.5555555555555556,
              "#000016"
             ],
             [
              0.6666666666666666,
              "#000017"
             ],
             [
              0.7777777777777778,
              "#000018"
             ],
             [
              0.8888888888888888,
              "#000019"
             ],
             [
              1,
              "#000020"
             ]
            ],
            "type": "contour"
           }
          ],
          "contourcarpet": [
           {
            "colorscale": [
             [
              0,
              "#000011"
             ],
             [
              0.1111111111111111,
              "#000012"
             ],
             [
              0.2222222222222222,
              "#000013"
             ],
             [
              0.3333333333333333,
              "#000014"
             ],
             [
              0.4444444444444444,
              "#000015"
             ],
             [
              0.5555555555555556,
              "#000016"
             ],
             [
              0.6666666666666666,
              "#000017"
             ],
             [
              0.7777777777777778,
              "#000018"
             ],
             [
              0.8888888888888888,
              "#000019"
             ],
             [
              1,
              "#000020"
             ]
            ],
            "type": "contourcarpet"
           }
          ],
          "heatmap": [
           {
            "colorscale": [
             [
              0,
              "#000011"
             ],
             [
              0.1111111111111111,
              "#000012"
             ],
             [
              0.2222222222222222,
              "#000013"
             ],
             [
              0.3333333333333333,
              "#000014"
             ],
             [
              0.4444444444444444,
              "#000015"
             ],
             [
              0.5555555555555556,
              "#000016"
             ],
             [
              0.6666666666666666,
              "#000017"
             ],
             [
              0.7777777777777778,
              "#000018"
             ],
             [
              0.8888888888888888,
              "#000019"
             ],
             [
              1,
              "#000020"
             ]
            ],
            "type": "heatmap"
           }
          ],
          "histogram2d": [
           {
            "colorscale": [
             [
              0,
              "#000011"
             ],
             [
              0.1111111111111111,
              "#000012"
             ],
             [
              0.2222222222222222,
              "#000013"
             ],
             [
              0.3333333333333333,
              "#000014"
             ],
             [
              0.4444444444444444,
              "#000015"
             ],
             [
              0.5555555555555556,
              "#000016"
             ],
             [
              0.6666666666666666,
              "#000017"
             ],
             [
              0.7777777777777778,
              "#000018"
             ],
             [
              0.8888888888888888,
              "#000019"
             ],
             [
              1,
              "#000020"
             ]
            ],
            "type": "histogram2d"
           }
          ],
          "icicle": [
           {
            "textfont": {
             "color": "white"
            },
            "type": "icicle"
           }
          ],
          "sankey": [
           {
            "textfont": {
             "color": "#000036"
            },
            "type": "sankey"
           }
          ],
          "scatter": [
           {
            "marker": {
             "line": {
              "width": 0
             }
            },
            "type": "scatter"
           }
          ],
          "table": [
           {
            "cells": {
             "fill": {
              "color": "#000038"
             },
             "font": {
              "color": "#000037"
             },
             "line": {
              "color": "#000039"
             }
            },
            "header": {
             "fill": {
              "color": "#000040"
             },
             "font": {
              "color": "#000036"
             },
             "line": {
              "color": "#000039"
             }
            },
            "type": "table"
           }
          ],
          "waterfall": [
           {
            "connector": {
             "line": {
              "color": "#000036",
              "width": 2
             }
            },
            "decreasing": {
             "marker": {
              "color": "#000033"
             }
            },
            "increasing": {
             "marker": {
              "color": "#000032"
             }
            },
            "totals": {
             "marker": {
              "color": "#000034"
             }
            },
            "type": "waterfall"
           }
          ]
         },
         "layout": {
          "coloraxis": {
           "colorscale": [
            [
             0,
             "#000011"
            ],
            [
             0.1111111111111111,
             "#000012"
            ],
            [
             0.2222222222222222,
             "#000013"
            ],
            [
             0.3333333333333333,
             "#000014"
            ],
            [
             0.4444444444444444,
             "#000015"
            ],
            [
             0.5555555555555556,
             "#000016"
            ],
            [
             0.6666666666666666,
             "#000017"
            ],
            [
             0.7777777777777778,
             "#000018"
            ],
            [
             0.8888888888888888,
             "#000019"
            ],
            [
             1,
             "#000020"
            ]
           ]
          },
          "colorscale": {
           "diverging": [
            [
             0,
             "#000021"
            ],
            [
             0.1,
             "#000022"
            ],
            [
             0.2,
             "#000023"
            ],
            [
             0.3,
             "#000024"
            ],
            [
             0.4,
             "#000025"
            ],
            [
             0.5,
             "#000026"
            ],
            [
             0.6,
             "#000027"
            ],
            [
             0.7,
             "#000028"
            ],
            [
             0.8,
             "#000029"
            ],
            [
             0.9,
             "#000030"
            ],
            [
             1,
             "#000031"
            ]
           ],
           "sequential": [
            [
             0,
             "#000011"
            ],
            [
             0.1111111111111111,
             "#000012"
            ],
            [
             0.2222222222222222,
             "#000013"
            ],
            [
             0.3333333333333333,
             "#000014"
            ],
            [
             0.4444444444444444,
             "#000015"
            ],
            [
             0.5555555555555556,
             "#000016"
            ],
            [
             0.6666666666666666,
             "#000017"
            ],
            [
             0.7777777777777778,
             "#000018"
            ],
            [
             0.8888888888888888,
             "#000019"
            ],
            [
             1,
             "#000020"
            ]
           ],
           "sequentialminus": [
            [
             0,
             "#000011"
            ],
            [
             0.1111111111111111,
             "#000012"
            ],
            [
             0.2222222222222222,
             "#000013"
            ],
            [
             0.3333333333333333,
             "#000014"
            ],
            [
             0.4444444444444444,
             "#000015"
            ],
            [
             0.5555555555555556,
             "#000016"
            ],
            [
             0.6666666666666666,
             "#000017"
            ],
            [
             0.7777777777777778,
             "#000018"
            ],
            [
             0.8888888888888888,
             "#000019"
            ],
            [
             1,
             "#000020"
            ]
           ]
          },
          "colorway": [
           "#000001",
           "#000002",
           "#000003",
           "#000004",
           "#000005",
           "#000006",
           "#000007",
           "#000008",
           "#000009",
           "#000010"
          ]
         }
        },
        "title": {
         "text": "Nombre d'objets trouvés par semaine"
        },
        "xaxis": {
         "anchor": "y",
         "domain": [
          0,
          1
         ],
         "title": {
          "text": "semaine"
         }
        },
        "yaxis": {
         "anchor": "x",
         "domain": [
          0,
          1
         ],
         "title": {
          "text": "sum of nb_objets"
         }
        }
       }
      }
     },
     "metadata": {},
     "output_type": "display_data"
    }
   ],
   "source": [
    "import sqlite3\n",
    "import pandas as pd\n",
    "import plotly.express as px \n",
    "import streamlit as st\n",
    "\n",
    "# Se connecter à la base de données\n",
    "connexion = sqlite3.connect(\"base.db\")\n",
    "\n",
    "# Définir les types d'objets à inclure\n",
    "objets_inclus = ['Porte-monnaie / portefeuille, argent, titres', 'Appareils électroniques, informatiques, appareils photo', 'Articles médicaux']\n",
    "\n",
    "# Récupérer les données entre 2019 et 2022\n",
    "sql = \"SELECT strftime('%Y-%W', date) AS semaine, type, COUNT(*) AS nb_objets FROM Objets_trouves WHERE type IN ({}) AND date BETWEEN '2019-01-01' AND '2022-12-31' GROUP BY semaine\"\n",
    "placeholders = ','.join(['?']*len(objets_inclus))\n",
    "sql = sql.format(placeholders)\n",
    "df = pd.read_sql_query(sql, connexion, params=objets_inclus)\n",
    "\n",
    "# Calculer la somme du nombre d'objets trouvés par semaine\n",
    "df_grouped = df.groupby(['semaine','type']).sum().reset_index()\n",
    "\n",
    "# Afficher l'histogramme plotly\n",
    "fig = px.histogram(df_grouped, x=\"semaine\", y=\"nb_objets\", barmode=\"stack\", color='type', title=\"Nombre d'objets trouvés par semaine\",nbins=200)\n",
    "fig.show()\n"
   ]
  },
  {
   "cell_type": "code",
   "execution_count": 7,
   "metadata": {},
   "outputs": [
    {
     "name": "stderr",
     "output_type": "stream",
     "text": [
      "2023-04-07 16:29:19.667 \n",
      "  \u001b[33m\u001b[1mWarning:\u001b[0m to view this Streamlit app on a browser, run it with the following\n",
      "  command:\n",
      "\n",
      "    streamlit run /home/apprenant/Documents/projets/Lost_in_translation/venv/lib/python3.10/site-packages/ipykernel_launcher.py [ARGUMENTS]\n"
     ]
    },
    {
     "data": {
      "text/plain": [
       "DeltaGenerator()"
      ]
     },
     "execution_count": 7,
     "metadata": {},
     "output_type": "execute_result"
    }
   ],
   "source": [
    "st.plotly_chart(fig)"
   ]
  },
  {
   "cell_type": "code",
   "execution_count": 1,
   "metadata": {},
   "outputs": [
    {
     "name": "stderr",
     "output_type": "stream",
     "text": [
      "2023-04-07 21:29:33.260 \n",
      "  \u001b[33m\u001b[1mWarning:\u001b[0m to view this Streamlit app on a browser, run it with the following\n",
      "  command:\n",
      "\n",
      "    streamlit run /home/apprenant/Documents/projets/Lost_in_translation/venv/lib/python3.10/site-packages/ipykernel_launcher.py [ARGUMENTS]\n"
     ]
    }
   ],
   "source": [
    "import streamlit as st\n",
    "\n",
    "# Options à inclure\n",
    "options = ['Option 1', 'Option 2', 'Option 3', 'Option 4']\n",
    "\n",
    "# Afficher la checkbox\n",
    "selected_options = st.multiselect('Sélectionnez une ou plusieurs options :', options)\n",
    "\n",
    "# Afficher les options sélectionnées\n",
    "st.write('Options sélectionnées :', selected_options)"
   ]
  }
 ],
 "metadata": {
  "kernelspec": {
   "display_name": "machine-learning",
   "language": "python",
   "name": "python3"
  },
  "language_info": {
   "codemirror_mode": {
    "name": "ipython",
    "version": 3
   },
   "file_extension": ".py",
   "mimetype": "text/x-python",
   "name": "python",
   "nbconvert_exporter": "python",
   "pygments_lexer": "ipython3",
   "version": "3.10.9"
  },
  "orig_nbformat": 4,
  "vscode": {
   "interpreter": {
    "hash": "ce8263f54646eff212f75d029976341b1907292128b7f9fc9935844628a6029c"
   }
  }
 },
 "nbformat": 4,
 "nbformat_minor": 2
}
