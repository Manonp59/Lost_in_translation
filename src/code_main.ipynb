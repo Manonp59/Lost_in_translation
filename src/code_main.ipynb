{
 "cells": [
  {
   "attachments": {},
   "cell_type": "markdown",
   "metadata": {},
   "source": [
    "#### Requeter pour avoir une base de données complète"
   ]
  },
  {
   "cell_type": "code",
   "execution_count": 5,
   "metadata": {},
   "outputs": [
    {
     "data": {
      "application/vnd.plotly.v1+json": {
       "config": {
        "plotlyServerURL": "https://plot.ly"
       },
       "data": [
        {
         "alignmentgroup": "True",
         "bingroup": "x",
         "histfunc": "sum",
         "hovertemplate": "type=Appareils électroniques, informatiques, appareils photo<br>semaine=%{x}<br>sum of nb_objets=%{y}<extra></extra>",
         "legendgroup": "Appareils électroniques, informatiques, appareils photo",
         "marker": {
          "color": "#636efa",
          "pattern": {
           "shape": ""
          }
         },
         "name": "Appareils électroniques, informatiques, appareils photo",
         "nbinsx": 200,
         "offsetgroup": "Appareils électroniques, informatiques, appareils photo",
         "orientation": "v",
         "showlegend": true,
         "type": "histogram",
         "x": [
          "2019-00",
          "2019-02",
          "2019-05",
          "2019-08",
          "2019-11",
          "2019-14",
          "2019-15",
          "2019-16",
          "2019-21",
          "2019-22",
          "2019-24",
          "2019-25",
          "2019-28",
          "2019-29",
          "2019-31",
          "2019-32",
          "2019-33",
          "2019-34",
          "2019-37",
          "2019-38",
          "2019-40",
          "2019-41",
          "2019-43",
          "2019-45",
          "2019-47",
          "2019-48",
          "2019-51",
          "2020-01",
          "2020-03",
          "2020-05",
          "2020-06",
          "2020-07",
          "2020-09",
          "2020-18",
          "2020-25",
          "2020-27",
          "2020-28",
          "2020-29",
          "2020-30",
          "2020-33",
          "2020-34",
          "2020-39",
          "2020-41",
          "2020-47",
          "2020-50",
          "2020-51",
          "2021-01",
          "2021-02",
          "2021-03",
          "2021-05",
          "2021-06",
          "2021-07",
          "2021-10",
          "2021-12",
          "2021-14",
          "2021-15",
          "2021-16",
          "2021-17",
          "2021-18",
          "2021-19",
          "2021-20",
          "2021-21",
          "2021-22",
          "2021-23",
          "2021-24",
          "2021-26",
          "2021-28",
          "2021-30",
          "2021-31",
          "2021-33",
          "2021-34",
          "2021-35",
          "2021-37",
          "2021-38",
          "2021-42",
          "2021-45",
          "2021-46",
          "2021-48",
          "2021-49",
          "2021-50",
          "2021-51",
          "2021-52",
          "2022-00",
          "2022-01",
          "2022-03",
          "2022-04",
          "2022-05",
          "2022-07",
          "2022-08",
          "2022-09",
          "2022-10",
          "2022-11",
          "2022-14",
          "2022-15",
          "2022-16",
          "2022-19",
          "2022-20",
          "2022-21",
          "2022-23",
          "2022-26",
          "2022-29",
          "2022-30",
          "2022-31",
          "2022-36",
          "2022-37",
          "2022-38",
          "2022-39",
          "2022-40",
          "2022-45",
          "2022-49",
          "2022-50",
          "2022-51"
         ],
         "xaxis": "x",
         "y": [
          238,
          254,
          312,
          316,
          286,
          296,
          322,
          300,
          302,
          372,
          324,
          404,
          356,
          306,
          322,
          286,
          338,
          320,
          398,
          262,
          366,
          278,
          326,
          310,
          298,
          208,
          134,
          208,
          280,
          264,
          366,
          360,
          244,
          2,
          208,
          248,
          208,
          178,
          260,
          224,
          242,
          200,
          228,
          88,
          166,
          142,
          152,
          162,
          152,
          156,
          164,
          146,
          228,
          148,
          168,
          120,
          136,
          106,
          156,
          150,
          228,
          160,
          234,
          250,
          242,
          240,
          222,
          216,
          256,
          218,
          242,
          244,
          264,
          224,
          256,
          264,
          268,
          282,
          286,
          302,
          200,
          212,
          26,
          192,
          238,
          228,
          276,
          302,
          304,
          330,
          232,
          294,
          322,
          316,
          272,
          294,
          298,
          272,
          356,
          354,
          332,
          316,
          326,
          268,
          294,
          354,
          358,
          330,
          296,
          272,
          294,
          286
         ],
         "yaxis": "y"
        },
        {
         "alignmentgroup": "True",
         "bingroup": "x",
         "histfunc": "sum",
         "hovertemplate": "type=Porte-monnaie / portefeuille, argent, titres<br>semaine=%{x}<br>sum of nb_objets=%{y}<extra></extra>",
         "legendgroup": "Porte-monnaie / portefeuille, argent, titres",
         "marker": {
          "color": "#EF553B",
          "pattern": {
           "shape": ""
          }
         },
         "name": "Porte-monnaie / portefeuille, argent, titres",
         "nbinsx": 200,
         "offsetgroup": "Porte-monnaie / portefeuille, argent, titres",
         "orientation": "v",
         "showlegend": true,
         "type": "histogram",
         "x": [
          "2019-01",
          "2019-03",
          "2019-04",
          "2019-06",
          "2019-07",
          "2019-09",
          "2019-10",
          "2019-12",
          "2019-13",
          "2019-17",
          "2019-18",
          "2019-19",
          "2019-20",
          "2019-23",
          "2019-26",
          "2019-27",
          "2019-30",
          "2019-35",
          "2019-36",
          "2019-39",
          "2019-42",
          "2019-44",
          "2019-49",
          "2019-50",
          "2019-52",
          "2020-00",
          "2020-04",
          "2020-08",
          "2020-10",
          "2020-11",
          "2020-12",
          "2020-13",
          "2020-14",
          "2020-16",
          "2020-17",
          "2020-19",
          "2020-20",
          "2020-21",
          "2020-22",
          "2020-23",
          "2020-26",
          "2020-31",
          "2020-32",
          "2020-35",
          "2020-36",
          "2020-37",
          "2020-38",
          "2020-40",
          "2020-42",
          "2020-43",
          "2020-44",
          "2020-45",
          "2020-46",
          "2020-48",
          "2020-49",
          "2020-52",
          "2021-04",
          "2021-08",
          "2021-09",
          "2021-13",
          "2021-25",
          "2021-27",
          "2021-29",
          "2021-32",
          "2021-36",
          "2021-39",
          "2021-41",
          "2021-43",
          "2021-44",
          "2021-47",
          "2022-02",
          "2022-06",
          "2022-12",
          "2022-17",
          "2022-18",
          "2022-22",
          "2022-24",
          "2022-25",
          "2022-27",
          "2022-32",
          "2022-33",
          "2022-34",
          "2022-35",
          "2022-41",
          "2022-42",
          "2022-43",
          "2022-44",
          "2022-47",
          "2022-48",
          "2022-52"
         ],
         "xaxis": "x",
         "y": [
          252,
          286,
          250,
          326,
          302,
          352,
          294,
          326,
          308,
          324,
          316,
          294,
          316,
          296,
          428,
          320,
          250,
          314,
          312,
          276,
          290,
          324,
          152,
          220,
          122,
          156,
          264,
          390,
          294,
          28,
          4,
          4,
          4,
          2,
          2,
          42,
          62,
          146,
          130,
          120,
          198,
          220,
          190,
          198,
          208,
          250,
          212,
          170,
          234,
          186,
          156,
          64,
          90,
          98,
          140,
          104,
          194,
          242,
          172,
          178,
          262,
          218,
          234,
          218,
          218,
          324,
          314,
          190,
          300,
          206,
          242,
          246,
          298,
          342,
          266,
          388,
          392,
          316,
          310,
          382,
          290,
          330,
          336,
          296,
          392,
          344,
          238,
          278,
          322,
          174
         ],
         "yaxis": "y"
        },
        {
         "alignmentgroup": "True",
         "bingroup": "x",
         "histfunc": "sum",
         "hovertemplate": "type=Articles médicaux<br>semaine=%{x}<br>sum of nb_objets=%{y}<extra></extra>",
         "legendgroup": "Articles médicaux",
         "marker": {
          "color": "#00cc96",
          "pattern": {
           "shape": ""
          }
         },
         "name": "Articles médicaux",
         "nbinsx": 200,
         "offsetgroup": "Articles médicaux",
         "orientation": "v",
         "showlegend": true,
         "type": "histogram",
         "x": [
          "2019-46",
          "2020-02",
          "2020-24",
          "2021-00",
          "2021-11",
          "2021-40",
          "2022-13",
          "2022-28",
          "2022-46"
         ],
         "xaxis": "x",
         "y": [
          368,
          216,
          146,
          22,
          178,
          248,
          296,
          264,
          338
         ],
         "yaxis": "y"
        }
       ],
       "layout": {
        "barmode": "stack",
        "legend": {
         "title": {
          "text": "type"
         },
         "tracegroupgap": 0
        },
        "template": {
         "data": {
          "bar": [
           {
            "error_x": {
             "color": "#2a3f5f"
            },
            "error_y": {
             "color": "#2a3f5f"
            },
            "marker": {
             "line": {
              "color": "#E5ECF6",
              "width": 0.5
             },
             "pattern": {
              "fillmode": "overlay",
              "size": 10,
              "solidity": 0.2
             }
            },
            "type": "bar"
           }
          ],
          "barpolar": [
           {
            "marker": {
             "line": {
              "color": "#E5ECF6",
              "width": 0.5
             },
             "pattern": {
              "fillmode": "overlay",
              "size": 10,
              "solidity": 0.2
             }
            },
            "type": "barpolar"
           }
          ],
          "carpet": [
           {
            "aaxis": {
             "endlinecolor": "#2a3f5f",
             "gridcolor": "white",
             "linecolor": "white",
             "minorgridcolor": "white",
             "startlinecolor": "#2a3f5f"
            },
            "baxis": {
             "endlinecolor": "#2a3f5f",
             "gridcolor": "white",
             "linecolor": "white",
             "minorgridcolor": "white",
             "startlinecolor": "#2a3f5f"
            },
            "type": "carpet"
           }
          ],
          "choropleth": [
           {
            "colorbar": {
             "outlinewidth": 0,
             "ticks": ""
            },
            "type": "choropleth"
           }
          ],
          "contour": [
           {
            "colorbar": {
             "outlinewidth": 0,
             "ticks": ""
            },
            "colorscale": [
             [
              0,
              "#0d0887"
             ],
             [
              0.1111111111111111,
              "#46039f"
             ],
             [
              0.2222222222222222,
              "#7201a8"
             ],
             [
              0.3333333333333333,
              "#9c179e"
             ],
             [
              0.4444444444444444,
              "#bd3786"
             ],
             [
              0.5555555555555556,
              "#d8576b"
             ],
             [
              0.6666666666666666,
              "#ed7953"
             ],
             [
              0.7777777777777778,
              "#fb9f3a"
             ],
             [
              0.8888888888888888,
              "#fdca26"
             ],
             [
              1,
              "#f0f921"
             ]
            ],
            "type": "contour"
           }
          ],
          "contourcarpet": [
           {
            "colorbar": {
             "outlinewidth": 0,
             "ticks": ""
            },
            "type": "contourcarpet"
           }
          ],
          "heatmap": [
           {
            "colorbar": {
             "outlinewidth": 0,
             "ticks": ""
            },
            "colorscale": [
             [
              0,
              "#0d0887"
             ],
             [
              0.1111111111111111,
              "#46039f"
             ],
             [
              0.2222222222222222,
              "#7201a8"
             ],
             [
              0.3333333333333333,
              "#9c179e"
             ],
             [
              0.4444444444444444,
              "#bd3786"
             ],
             [
              0.5555555555555556,
              "#d8576b"
             ],
             [
              0.6666666666666666,
              "#ed7953"
             ],
             [
              0.7777777777777778,
              "#fb9f3a"
             ],
             [
              0.8888888888888888,
              "#fdca26"
             ],
             [
              1,
              "#f0f921"
             ]
            ],
            "type": "heatmap"
           }
          ],
          "heatmapgl": [
           {
            "colorbar": {
             "outlinewidth": 0,
             "ticks": ""
            },
            "colorscale": [
             [
              0,
              "#0d0887"
             ],
             [
              0.1111111111111111,
              "#46039f"
             ],
             [
              0.2222222222222222,
              "#7201a8"
             ],
             [
              0.3333333333333333,
              "#9c179e"
             ],
             [
              0.4444444444444444,
              "#bd3786"
             ],
             [
              0.5555555555555556,
              "#d8576b"
             ],
             [
              0.6666666666666666,
              "#ed7953"
             ],
             [
              0.7777777777777778,
              "#fb9f3a"
             ],
             [
              0.8888888888888888,
              "#fdca26"
             ],
             [
              1,
              "#f0f921"
             ]
            ],
            "type": "heatmapgl"
           }
          ],
          "histogram": [
           {
            "marker": {
             "pattern": {
              "fillmode": "overlay",
              "size": 10,
              "solidity": 0.2
             }
            },
            "type": "histogram"
           }
          ],
          "histogram2d": [
           {
            "colorbar": {
             "outlinewidth": 0,
             "ticks": ""
            },
            "colorscale": [
             [
              0,
              "#0d0887"
             ],
             [
              0.1111111111111111,
              "#46039f"
             ],
             [
              0.2222222222222222,
              "#7201a8"
             ],
             [
              0.3333333333333333,
              "#9c179e"
             ],
             [
              0.4444444444444444,
              "#bd3786"
             ],
             [
              0.5555555555555556,
              "#d8576b"
             ],
             [
              0.6666666666666666,
              "#ed7953"
             ],
             [
              0.7777777777777778,
              "#fb9f3a"
             ],
             [
              0.8888888888888888,
              "#fdca26"
             ],
             [
              1,
              "#f0f921"
             ]
            ],
            "type": "histogram2d"
           }
          ],
          "histogram2dcontour": [
           {
            "colorbar": {
             "outlinewidth": 0,
             "ticks": ""
            },
            "colorscale": [
             [
              0,
              "#0d0887"
             ],
             [
              0.1111111111111111,
              "#46039f"
             ],
             [
              0.2222222222222222,
              "#7201a8"
             ],
             [
              0.3333333333333333,
              "#9c179e"
             ],
             [
              0.4444444444444444,
              "#bd3786"
             ],
             [
              0.5555555555555556,
              "#d8576b"
             ],
             [
              0.6666666666666666,
              "#ed7953"
             ],
             [
              0.7777777777777778,
              "#fb9f3a"
             ],
             [
              0.8888888888888888,
              "#fdca26"
             ],
             [
              1,
              "#f0f921"
             ]
            ],
            "type": "histogram2dcontour"
           }
          ],
          "mesh3d": [
           {
            "colorbar": {
             "outlinewidth": 0,
             "ticks": ""
            },
            "type": "mesh3d"
           }
          ],
          "parcoords": [
           {
            "line": {
             "colorbar": {
              "outlinewidth": 0,
              "ticks": ""
             }
            },
            "type": "parcoords"
           }
          ],
          "pie": [
           {
            "automargin": true,
            "type": "pie"
           }
          ],
          "scatter": [
           {
            "fillpattern": {
             "fillmode": "overlay",
             "size": 10,
             "solidity": 0.2
            },
            "type": "scatter"
           }
          ],
          "scatter3d": [
           {
            "line": {
             "colorbar": {
              "outlinewidth": 0,
              "ticks": ""
             }
            },
            "marker": {
             "colorbar": {
              "outlinewidth": 0,
              "ticks": ""
             }
            },
            "type": "scatter3d"
           }
          ],
          "scattercarpet": [
           {
            "marker": {
             "colorbar": {
              "outlinewidth": 0,
              "ticks": ""
             }
            },
            "type": "scattercarpet"
           }
          ],
          "scattergeo": [
           {
            "marker": {
             "colorbar": {
              "outlinewidth": 0,
              "ticks": ""
             }
            },
            "type": "scattergeo"
           }
          ],
          "scattergl": [
           {
            "marker": {
             "colorbar": {
              "outlinewidth": 0,
              "ticks": ""
             }
            },
            "type": "scattergl"
           }
          ],
          "scattermapbox": [
           {
            "marker": {
             "colorbar": {
              "outlinewidth": 0,
              "ticks": ""
             }
            },
            "type": "scattermapbox"
           }
          ],
          "scatterpolar": [
           {
            "marker": {
             "colorbar": {
              "outlinewidth": 0,
              "ticks": ""
             }
            },
            "type": "scatterpolar"
           }
          ],
          "scatterpolargl": [
           {
            "marker": {
             "colorbar": {
              "outlinewidth": 0,
              "ticks": ""
             }
            },
            "type": "scatterpolargl"
           }
          ],
          "scatterternary": [
           {
            "marker": {
             "colorbar": {
              "outlinewidth": 0,
              "ticks": ""
             }
            },
            "type": "scatterternary"
           }
          ],
          "surface": [
           {
            "colorbar": {
             "outlinewidth": 0,
             "ticks": ""
            },
            "colorscale": [
             [
              0,
              "#0d0887"
             ],
             [
              0.1111111111111111,
              "#46039f"
             ],
             [
              0.2222222222222222,
              "#7201a8"
             ],
             [
              0.3333333333333333,
              "#9c179e"
             ],
             [
              0.4444444444444444,
              "#bd3786"
             ],
             [
              0.5555555555555556,
              "#d8576b"
             ],
             [
              0.6666666666666666,
              "#ed7953"
             ],
             [
              0.7777777777777778,
              "#fb9f3a"
             ],
             [
              0.8888888888888888,
              "#fdca26"
             ],
             [
              1,
              "#f0f921"
             ]
            ],
            "type": "surface"
           }
          ],
          "table": [
           {
            "cells": {
             "fill": {
              "color": "#EBF0F8"
             },
             "line": {
              "color": "white"
             }
            },
            "header": {
             "fill": {
              "color": "#C8D4E3"
             },
             "line": {
              "color": "white"
             }
            },
            "type": "table"
           }
          ]
         },
         "layout": {
          "annotationdefaults": {
           "arrowcolor": "#2a3f5f",
           "arrowhead": 0,
           "arrowwidth": 1
          },
          "autotypenumbers": "strict",
          "coloraxis": {
           "colorbar": {
            "outlinewidth": 0,
            "ticks": ""
           }
          },
          "colorscale": {
           "diverging": [
            [
             0,
             "#8e0152"
            ],
            [
             0.1,
             "#c51b7d"
            ],
            [
             0.2,
             "#de77ae"
            ],
            [
             0.3,
             "#f1b6da"
            ],
            [
             0.4,
             "#fde0ef"
            ],
            [
             0.5,
             "#f7f7f7"
            ],
            [
             0.6,
             "#e6f5d0"
            ],
            [
             0.7,
             "#b8e186"
            ],
            [
             0.8,
             "#7fbc41"
            ],
            [
             0.9,
             "#4d9221"
            ],
            [
             1,
             "#276419"
            ]
           ],
           "sequential": [
            [
             0,
             "#0d0887"
            ],
            [
             0.1111111111111111,
             "#46039f"
            ],
            [
             0.2222222222222222,
             "#7201a8"
            ],
            [
             0.3333333333333333,
             "#9c179e"
            ],
            [
             0.4444444444444444,
             "#bd3786"
            ],
            [
             0.5555555555555556,
             "#d8576b"
            ],
            [
             0.6666666666666666,
             "#ed7953"
            ],
            [
             0.7777777777777778,
             "#fb9f3a"
            ],
            [
             0.8888888888888888,
             "#fdca26"
            ],
            [
             1,
             "#f0f921"
            ]
           ],
           "sequentialminus": [
            [
             0,
             "#0d0887"
            ],
            [
             0.1111111111111111,
             "#46039f"
            ],
            [
             0.2222222222222222,
             "#7201a8"
            ],
            [
             0.3333333333333333,
             "#9c179e"
            ],
            [
             0.4444444444444444,
             "#bd3786"
            ],
            [
             0.5555555555555556,
             "#d8576b"
            ],
            [
             0.6666666666666666,
             "#ed7953"
            ],
            [
             0.7777777777777778,
             "#fb9f3a"
            ],
            [
             0.8888888888888888,
             "#fdca26"
            ],
            [
             1,
             "#f0f921"
            ]
           ]
          },
          "colorway": [
           "#636efa",
           "#EF553B",
           "#00cc96",
           "#ab63fa",
           "#FFA15A",
           "#19d3f3",
           "#FF6692",
           "#B6E880",
           "#FF97FF",
           "#FECB52"
          ],
          "font": {
           "color": "#2a3f5f"
          },
          "geo": {
           "bgcolor": "white",
           "lakecolor": "white",
           "landcolor": "#E5ECF6",
           "showlakes": true,
           "showland": true,
           "subunitcolor": "white"
          },
          "hoverlabel": {
           "align": "left"
          },
          "hovermode": "closest",
          "mapbox": {
           "style": "light"
          },
          "paper_bgcolor": "white",
          "plot_bgcolor": "#E5ECF6",
          "polar": {
           "angularaxis": {
            "gridcolor": "white",
            "linecolor": "white",
            "ticks": ""
           },
           "bgcolor": "#E5ECF6",
           "radialaxis": {
            "gridcolor": "white",
            "linecolor": "white",
            "ticks": ""
           }
          },
          "scene": {
           "xaxis": {
            "backgroundcolor": "#E5ECF6",
            "gridcolor": "white",
            "gridwidth": 2,
            "linecolor": "white",
            "showbackground": true,
            "ticks": "",
            "zerolinecolor": "white"
           },
           "yaxis": {
            "backgroundcolor": "#E5ECF6",
            "gridcolor": "white",
            "gridwidth": 2,
            "linecolor": "white",
            "showbackground": true,
            "ticks": "",
            "zerolinecolor": "white"
           },
           "zaxis": {
            "backgroundcolor": "#E5ECF6",
            "gridcolor": "white",
            "gridwidth": 2,
            "linecolor": "white",
            "showbackground": true,
            "ticks": "",
            "zerolinecolor": "white"
           }
          },
          "shapedefaults": {
           "line": {
            "color": "#2a3f5f"
           }
          },
          "ternary": {
           "aaxis": {
            "gridcolor": "white",
            "linecolor": "white",
            "ticks": ""
           },
           "baxis": {
            "gridcolor": "white",
            "linecolor": "white",
            "ticks": ""
           },
           "bgcolor": "#E5ECF6",
           "caxis": {
            "gridcolor": "white",
            "linecolor": "white",
            "ticks": ""
           }
          },
          "title": {
           "x": 0.05
          },
          "xaxis": {
           "automargin": true,
           "gridcolor": "white",
           "linecolor": "white",
           "ticks": "",
           "title": {
            "standoff": 15
           },
           "zerolinecolor": "white",
           "zerolinewidth": 2
          },
          "yaxis": {
           "automargin": true,
           "gridcolor": "white",
           "linecolor": "white",
           "ticks": "",
           "title": {
            "standoff": 15
           },
           "zerolinecolor": "white",
           "zerolinewidth": 2
          }
         }
        },
        "title": {
         "text": "Nombre d'objets trouvés par semaine"
        },
        "xaxis": {
         "anchor": "y",
         "domain": [
          0,
          1
         ],
         "title": {
          "text": "semaine"
         }
        },
        "yaxis": {
         "anchor": "x",
         "domain": [
          0,
          1
         ],
         "title": {
          "text": "sum of nb_objets"
         }
        }
       }
      }
     },
     "metadata": {},
     "output_type": "display_data"
    }
   ],
   "source": [
    "import sqlite3\n",
    "import pandas as pd\n",
    "import plotly.express as px \n",
    "\n",
    "# Se connecter à la base de données\n",
    "connexion = sqlite3.connect(\"base.db\")\n",
    "\n",
    "# Définir les types d'objets à inclure\n",
    "objets_inclus = ['Porte-monnaie / portefeuille, argent, titres', 'Appareils électroniques, informatiques, appareils photo', 'Articles médicaux']\n",
    "\n",
    "# Récupérer les données entre 2019 et 2022\n",
    "sql = \"SELECT strftime('%Y-%W', date) AS semaine, type, COUNT(*) AS nb_objets FROM Objets_trouves WHERE type IN ({}) AND date BETWEEN '2019-01-01' AND '2022-12-31' GROUP BY semaine\"\n",
    "placeholders = ','.join(['?']*len(objets_inclus))\n",
    "sql = sql.format(placeholders)\n",
    "df = pd.read_sql_query(sql, connexion, params=objets_inclus)\n",
    "\n",
    "# Calculer la somme du nombre d'objets trouvés par semaine\n",
    "df_grouped = df.groupby(['semaine','type']).sum().reset_index()\n",
    "\n",
    "# Afficher l'histogramme plotly\n",
    "fig = px.histogram(df_grouped, x=\"semaine\", y=\"nb_objets\", barmode=\"stack\", color='type', title=\"Nombre d'objets trouvés par semaine\",nbins=200)\n",
    "fig.show()\n"
   ]
  },
  {
   "cell_type": "code",
   "execution_count": 2,
   "metadata": {},
   "outputs": [],
   "source": []
  }
 ],
 "metadata": {
  "kernelspec": {
   "display_name": "machine-learning",
   "language": "python",
   "name": "python3"
  },
  "language_info": {
   "codemirror_mode": {
    "name": "ipython",
    "version": 3
   },
   "file_extension": ".py",
   "mimetype": "text/x-python",
   "name": "python",
   "nbconvert_exporter": "python",
   "pygments_lexer": "ipython3",
   "version": "3.10.9"
  },
  "orig_nbformat": 4,
  "vscode": {
   "interpreter": {
    "hash": "ce8263f54646eff212f75d029976341b1907292128b7f9fc9935844628a6029c"
   }
  }
 },
 "nbformat": 4,
 "nbformat_minor": 2
}
