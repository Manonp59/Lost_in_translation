{
 "cells": [
  {
   "attachments": {},
   "cell_type": "markdown",
   "metadata": {},
   "source": [
    "#### Requeter pour avoir une base de données complète"
   ]
  },
  {
   "cell_type": "code",
   "execution_count": 44,
   "metadata": {},
   "outputs": [],
   "source": [
    "import requests\n",
    "import pandas as pd\n",
    "import sqlite3\n",
    "import urllib.parse\n",
    "\n",
    "\n",
    "#url = \"https://ressources.data.sncf.com/api/records/1.0/search/?dataset=objets-trouves-restitution&q=gc_obo_gare_origine_r_name+%3D+%22Paris%22+AND+(date%3D'2019'+OR+date%3D'2020'+OR+date+%3D'2021'+OR+date%3D'2022')&sort=date&facet=date&facet=gc_obo_date_heure_restitution_c&facet=gc_obo_gare_origine_r_name&facet=gc_obo_nature_c&facet=gc_obo_type_c&facet=gc_obo_nom_recordtype_sc_c&timezone=Europe%2FParis&rows=-1\"\n",
    "\n",
    "url1 = \"https://ressources.data.sncf.com/api/records/1.0/search/?dataset=objets-trouves-restitution&q=gc_obo_gare_origine_r_name+%3D+%22\"\n",
    "url2 = \"&sort=date&facet=date&facet=gc_obo_date_heure_restitution_c&facet=gc_obo_gare_origine_r_name&facet=gc_obo_nature_c&facet=gc_obo_type_c&facet=gc_obo_nom_recordtype_sc_c&timezone=Europe%2FParis&rows=-1\"\n",
    "\n",
    "\n",
    "gares = ['Paris Gare de Lyon', 'Paris Montparnasse', 'Paris Gare du Nord', 'Paris Saint-Lazare', 'Paris Est', 'Paris Bercy', 'Paris Austerlitz']\n",
    "date =[2019, 2020,2021,2022]\n",
    "\n",
    "data_frames = []\n",
    "for g in gares:\n",
    "    for d in date:\n",
    "        api_url = f\"{url1}{urllib.parse.quote(g)}%22+AND+date%3D{str(d)}{url2}\"\n",
    "        response = requests.get(api_url)\n",
    "        data = response.json()\n",
    "        records = data[\"records\"]\n",
    "        record_fields = [record[\"fields\"] for record in records]\n",
    "        df = pd.DataFrame(record_fields)\n",
    "        data_frames.append(df)\n",
    "\n",
    "df_concatenated = pd.concat(data_frames, ignore_index=True)\n",
    "\n",
    "# Créer un DataFrame à partir des champs des enregistrements\n",
    "df = pd.DataFrame(df_concatenated)\n",
    "\n",
    "\n",
    "# Écrire le DataFrame dans un fichier CSV\n",
    "df.to_csv(\"objets-trouves.csv\", index=False)\n",
    "\n",
    "# Créer une connexion à la base de données\n",
    "connexion = sqlite3.connect('bdd.db')\n",
    "\n",
    "df.to_sql('objets_trouves', connexion,if_exists='replace', index=False)\n",
    "\n",
    "connexion.close()\n"
   ]
  },
  {
   "cell_type": "code",
   "execution_count": 45,
   "metadata": {},
   "outputs": [],
   "source": [
    "import requests\n",
    "import pandas as pd\n",
    "import sqlite3\n",
    "import urllib.parse\n",
    "\n",
    "\n",
    "url1 = \"https://ressources.data.sncf.com/api/records/1.0/search/?dataset=objets-trouves-restitution&q=gc_obo_gare_origine_r_name+%3D+%22\"\n",
    "url2 = \"&sort=date&facet=date&facet=gc_obo_date_heure_restitution_c&facet=gc_obo_gare_origine_r_name&facet=gc_obo_nature_c&facet=gc_obo_type_c&facet=gc_obo_nom_recordtype_sc_c&timezone=Europe%2FParis&rows=-1\"\n",
    "\n",
    "\n",
    "gares = ['Paris Gare de Lyon', 'Paris Montparnasse', 'Paris Gare du Nord', 'Paris Saint-Lazare', 'Paris Est', 'Paris Bercy', 'Paris Austerlitz']\n",
    "date =[2019, 2020,2021,2022]\n",
    "\n",
    "data_frames = []\n",
    "for g in gares:\n",
    "    for d in date:\n",
    "        api_url = f\"{url1}{urllib.parse.quote(g)}%22+AND+date%3D{str(d)}{url2}\"\n",
    "        response = requests.get(api_url)\n",
    "        data = response.json()\n",
    "        records = data[\"records\"]\n",
    "        record_fields = [record[\"fields\"] for record in records]\n",
    "        data_frames.append(record_fields)\n",
    "\n"
   ]
  },
  {
   "cell_type": "code",
   "execution_count": 48,
   "metadata": {},
   "outputs": [],
   "source": [
    "connexion = sqlite3.connect(\"base.db\")\n",
    "curseur = connexion.cursor()\n",
    "for n in range(len(data_frames)):\n",
    "    for item in data_frames[n]:\n",
    "    # Extract the variables and values\n",
    "       date = item['date']\n",
    "       type = item['gc_obo_type_c']\n",
    "       gare = item['gc_obo_gare_origine_r_name']\n",
    "       code_uic = item['gc_obo_gare_origine_r_code_uic_c']\n",
    "       curseur.execute(\"INSERT INTO Objets_trouves (date,type,gare,code_uic) VALUES (?,?, ?, ?)\", (date, type,gare, code_uic))\n",
    "connexion.commit()\n",
    "connexion.close()\n"
   ]
  }
 ],
 "metadata": {
  "kernelspec": {
   "display_name": "machine-learning",
   "language": "python",
   "name": "python3"
  },
  "language_info": {
   "codemirror_mode": {
    "name": "ipython",
    "version": 3
   },
   "file_extension": ".py",
   "mimetype": "text/x-python",
   "name": "python",
   "nbconvert_exporter": "python",
   "pygments_lexer": "ipython3",
   "version": "3.10.9"
  },
  "orig_nbformat": 4,
  "vscode": {
   "interpreter": {
    "hash": "ce8263f54646eff212f75d029976341b1907292128b7f9fc9935844628a6029c"
   }
  }
 },
 "nbformat": 4,
 "nbformat_minor": 2
}
